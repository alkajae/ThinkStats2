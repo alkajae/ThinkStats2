{
 "cells": [
  {
   "cell_type": "code",
   "execution_count": null,
   "id": "38700876-6901-4a8e-95e5-c27a53beda23",
   "metadata": {},
   "outputs": [],
   "source": [
    "\"\"\"\n",
    "Summarize what I leared about whether babiese arrive late:\n",
    "Which summary statistics would I use if I wanted to get a story on the evening news? If I was trying to\n",
    "get on the evening news, I would look for outliers. Abnormalities are what tend to get most attention. \n",
    "\n",
    "Which summary statistics would I use if I wanted to reassure an anxious patient? To reassure an anxious\n",
    "patient I would show the difference in weeks between the mean of first pregnancy lengths and \n",
    "other birth order pregnancy lengths because it is such a small difference (.078). This way they\n",
    "can see there isn't a huge difference.\n",
    "\n",
    "Write a paragraph that uses results in Chapter 2 to answer the question \"Do first babies arrive late?\": In order to make an assumption about\n",
    "whether first babies arrive late I first looked up what is considered \"arriving late\". According to Mayo Clinic a late-term pregnancy is \n",
    "between 41 and 42 weeks. Now I have to consider which data points fall into this category.The most visible bars are the three sets after \n",
    "40 weeks. Weeks 44 and 45 are not very visible given the full dataset. Based on 41 - 43 it looks like first babies do tend to arrive late more\n",
    "often than other birth orders. \n",
    "\"\"\"\n",
    "\n"
   ]
  },
  {
   "cell_type": "code",
   "execution_count": null,
   "id": "81837b32-03a9-47b5-ba90-24e40f7aa657",
   "metadata": {},
   "outputs": [],
   "source": [
    "\"\"\"\n",
    "Use the variable totalwgt_lb, investigate whether first babies are lighter or heavier than others...\n",
    "Per the below code, for weight first babies are very slightly lighter. Compared the length where they are slightly longer\n",
    "\"\"\"\n"
   ]
  },
  {
   "cell_type": "code",
   "execution_count": null,
   "id": "5a8139e6-010e-4bd2-80bf-eebe40750fa5",
   "metadata": {},
   "outputs": [],
   "source": [
    "diff = firsts.totalwgt_lb.mean() - others.totalwgt_lb.mean()\n",
    "var1 = firsts.totalwgt_lb.var()\n",
    "var2 = others.totalwgt_lb.var()\n",
    "n1, n2 = len(firsts.totalwgt_lb), len(others.totalwgt_lb)\n",
    "pooled_var = (n1 * var1 + n2 * var2) / (n1 + n2)\n",
    "d = diff / np.sqrt(pooled_var) \n",
    "print(d)"
   ]
  },
  {
   "cell_type": "code",
   "execution_count": null,
   "id": "51495f94-1b36-41ed-9420-8682971c57eb",
   "metadata": {},
   "outputs": [],
   "source": [
    "diff = firsts.prglngth.mean() - others.prglngth.mean()\n",
    "var1 = firsts.prglngth.var()\n",
    "var2 = others.prglngth.var()\n",
    "n1, n2 = len(firsts.prglngth), len(others.prglngth)\n",
    "pooled_var = (n1 * var1 + n2 * var2) / (n1 + n2)\n",
    "d = diff / np.sqrt(pooled_var) \n",
    "print(d)"
   ]
  },
  {
   "cell_type": "code",
   "execution_count": null,
   "id": "b3bbd5b3-9fdf-4655-b28b-b019cf5dc71c",
   "metadata": {},
   "outputs": [],
   "source": []
  }
 ],
 "metadata": {
  "kernelspec": {
   "display_name": "Python 3 (ipykernel)",
   "language": "python",
   "name": "python3"
  },
  "language_info": {
   "codemirror_mode": {
    "name": "ipython",
    "version": 3
   },
   "file_extension": ".py",
   "mimetype": "text/x-python",
   "name": "python",
   "nbconvert_exporter": "python",
   "pygments_lexer": "ipython3",
   "version": "3.12.7"
  }
 },
 "nbformat": 4,
 "nbformat_minor": 5
}
